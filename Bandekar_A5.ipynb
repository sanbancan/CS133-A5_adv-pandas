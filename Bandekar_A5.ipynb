{
  "nbformat": 4,
  "nbformat_minor": 0,
  "metadata": {
    "colab": {
      "provenance": []
    },
    "kernelspec": {
      "name": "python3",
      "display_name": "Python 3"
    },
    "language_info": {
      "name": "python"
    }
  },
  "cells": [
    {
      "cell_type": "code",
      "execution_count": 1,
      "metadata": {
        "id": "AdveWBcJfDdj"
      },
      "outputs": [],
      "source": [
        "import pandas as pd"
      ]
    },
    {
      "cell_type": "code",
      "source": [
        "csvurl=\"https://gist.githubusercontent.com/clairehq/\" + \\\n",
        "        \"79acab35be50eaf1c383948ed3fd1129/raw/407a02139ae1e134992b90b4b2b8c329b3d73a6a/winemag-data-130k-v2.csv\"\n",
        "import pandas as pd\n",
        "wine = pd.read_csv(csvurl)\n",
        "wine.drop(wine.columns[0], axis=\"columns\", inplace=True)\n",
        "wine.head()\n",
        "print(wine)"
      ],
      "metadata": {
        "colab": {
          "base_uri": "https://localhost:8080/"
        },
        "id": "ofeWzV_zfIad",
        "outputId": "0a762f39-dcd3-44d7-bc82-c69ea472457e"
      },
      "execution_count": 3,
      "outputs": [
        {
          "output_type": "stream",
          "name": "stdout",
          "text": [
            "         country                                        description  \\\n",
            "0          Italy  Aromas include tropical fruit, broom, brimston...   \n",
            "1       Portugal  This is ripe and fruity, a wine that is smooth...   \n",
            "2             US  Tart and snappy, the flavors of lime flesh and...   \n",
            "3             US  Pineapple rind, lemon pith and orange blossom ...   \n",
            "4             US  Much like the regular bottling from 2012, this...   \n",
            "...          ...                                                ...   \n",
            "65494     France  Made from young vines from the Vaulorent porti...   \n",
            "65495  Australia  This is a big, fat, almost sweet-tasting Caber...   \n",
            "65496         US  Much improved over the unripe 2005, Fritz's 20...   \n",
            "65497         US  This wine wears its 15.8% alcohol better than ...   \n",
            "65498      Spain  A unique take on Manzanilla Sherry, which is o...   \n",
            "\n",
            "                              designation  points  price           province  \\\n",
            "0                            Vulkà Bianco      87    NaN  Sicily & Sardinia   \n",
            "1                                Avidagos      87   15.0              Douro   \n",
            "2                                     NaN      87   14.0             Oregon   \n",
            "3                    Reserve Late Harvest      87   13.0           Michigan   \n",
            "4      Vintner's Reserve Wild Child Block      87   65.0             Oregon   \n",
            "...                                   ...     ...    ...                ...   \n",
            "65494              Fourchaume Premier Cru      90   45.0           Burgundy   \n",
            "65495                                 NaN      90   22.0    South Australia   \n",
            "65496                              Estate      90   20.0         California   \n",
            "65497                            Block 24      90   31.0         California   \n",
            "65498                          Manzanilla      90   10.0          Andalucia   \n",
            "\n",
            "                  region_1           region_2         taster_name  \\\n",
            "0                     Etna                NaN       Kerin O’Keefe   \n",
            "1                      NaN                NaN          Roger Voss   \n",
            "2        Willamette Valley  Willamette Valley        Paul Gregutt   \n",
            "3      Lake Michigan Shore                NaN  Alexander Peartree   \n",
            "4        Willamette Valley  Willamette Valley        Paul Gregutt   \n",
            "...                    ...                ...                 ...   \n",
            "65494              Chablis                NaN          Roger Voss   \n",
            "65495         McLaren Vale                NaN      Joe Czerwinski   \n",
            "65496     Dry Creek Valley             Sonoma                 NaN   \n",
            "65497          Napa Valley               Napa                 NaN   \n",
            "65498                Jerez                NaN   Michael Schachner   \n",
            "\n",
            "      taster_twitter_handle  \\\n",
            "0              @kerinokeefe   \n",
            "1                @vossroger   \n",
            "2               @paulgwine    \n",
            "3                       NaN   \n",
            "4               @paulgwine    \n",
            "...                     ...   \n",
            "65494            @vossroger   \n",
            "65495                @JoeCz   \n",
            "65496                   NaN   \n",
            "65497                   NaN   \n",
            "65498           @wineschach   \n",
            "\n",
            "                                                   title             variety  \\\n",
            "0                      Nicosia 2013 Vulkà Bianco  (Etna)         White Blend   \n",
            "1          Quinta dos Avidagos 2011 Avidagos Red (Douro)      Portuguese Red   \n",
            "2          Rainstorm 2013 Pinot Gris (Willamette Valley)          Pinot Gris   \n",
            "3      St. Julian 2013 Reserve Late Harvest Riesling ...            Riesling   \n",
            "4      Sweet Cheeks 2012 Vintner's Reserve Wild Child...          Pinot Noir   \n",
            "...                                                  ...                 ...   \n",
            "65494  William Fèvre 2005 Fourchaume Premier Cru  (Ch...          Chardonnay   \n",
            "65495    Tapestry 2005 Cabernet Sauvignon (McLaren Vale)  Cabernet Sauvignon   \n",
            "65496  Fritz 2006 Estate Sauvignon Blanc (Dry Creek V...     Sauvignon Blanc   \n",
            "65497       Hendry 2004 Block 24 Primitivo (Napa Valley)           Primitivo   \n",
            "65498  Bodegas Dios Baco S.L. NV Manzanilla Sherry (J...              Sherry   \n",
            "\n",
            "                       winery  \n",
            "0                     Nicosia  \n",
            "1         Quinta dos Avidagos  \n",
            "2                   Rainstorm  \n",
            "3                  St. Julian  \n",
            "4                Sweet Cheeks  \n",
            "...                       ...  \n",
            "65494           William Fèvre  \n",
            "65495                Tapestry  \n",
            "65496                   Fritz  \n",
            "65497                  Hendry  \n",
            "65498  Bodegas Dios Baco S.L.  \n",
            "\n",
            "[65499 rows x 13 columns]\n"
          ]
        }
      ]
    },
    {
      "cell_type": "code",
      "source": [
        "mean_points = wine['points'].mean()\n",
        "\n",
        "print(\"Mean of points column:\", mean_points)"
      ],
      "metadata": {
        "colab": {
          "base_uri": "https://localhost:8080/"
        },
        "id": "8ko_7aaWfYl5",
        "outputId": "70893505-a846-4238-891e-88086c8a83f8"
      },
      "execution_count": 4,
      "outputs": [
        {
          "output_type": "stream",
          "name": "stdout",
          "text": [
            "Mean of points column: 88.43403716087269\n"
          ]
        }
      ]
    },
    {
      "cell_type": "code",
      "source": [
        "unique_countries = wine['country'].nunique()\n",
        "\n",
        "print(\"Number of unique countries:\", unique_countries)"
      ],
      "metadata": {
        "colab": {
          "base_uri": "https://localhost:8080/"
        },
        "id": "Y3ZmJvU0oU4v",
        "outputId": "7dddda90-c7c9-4a7b-85d6-6f9088b49d92"
      },
      "execution_count": 5,
      "outputs": [
        {
          "output_type": "stream",
          "name": "stdout",
          "text": [
            "Number of unique countries: 41\n"
          ]
        }
      ]
    },
    {
      "cell_type": "code",
      "source": [
        "country_counts = wine['country'].value_counts(ascending=True)\n",
        "\n",
        "print(country_counts)"
      ],
      "metadata": {
        "colab": {
          "base_uri": "https://localhost:8080/"
        },
        "id": "LJJwc_ktohGc",
        "outputId": "48f76f86-d9aa-4b5e-bf6e-abfa1f11410e"
      },
      "execution_count": 7,
      "outputs": [
        {
          "output_type": "stream",
          "name": "stdout",
          "text": [
            "country\n",
            "Bosnia and Herzegovina        1\n",
            "Armenia                       1\n",
            "Slovakia                      1\n",
            "Switzerland                   4\n",
            "Luxembourg                    4\n",
            "India                         4\n",
            "Ukraine                       5\n",
            "Macedonia                     6\n",
            "Czech Republic                6\n",
            "Cyprus                        6\n",
            "Serbia                        7\n",
            "Peru                          8\n",
            "Morocco                      11\n",
            "Lebanon                      20\n",
            "Moldova                      30\n",
            "Brazil                       31\n",
            "Mexico                       31\n",
            "England                      36\n",
            "Georgia                      37\n",
            "Slovenia                     39\n",
            "Turkey                       43\n",
            "Croatia                      44\n",
            "Uruguay                      61\n",
            "Hungary                      61\n",
            "Romania                      67\n",
            "Bulgaria                     68\n",
            "Canada                      108\n",
            "Greece                      242\n",
            "Israel                      259\n",
            "New Zealand                 733\n",
            "South Africa                737\n",
            "Germany                    1051\n",
            "Australia                  1177\n",
            "Austria                    1635\n",
            "Argentina                  1907\n",
            "Chile                      2258\n",
            "Portugal                   2963\n",
            "Spain                      3409\n",
            "Italy                     10005\n",
            "France                    11174\n",
            "US                        27177\n",
            "Name: count, dtype: int64\n"
          ]
        }
      ]
    },
    {
      "cell_type": "code",
      "source": [
        "average_price = wine['price'].mean(skipna=True)\n",
        "\n",
        "# Create the adjusted_price column by subtracting the average price, ignoring NaN values\n",
        "wine['adjusted_price'] = wine['price'] - average_price\n",
        "\n",
        "print(wine[['price', 'adjusted_price']])"
      ],
      "metadata": {
        "colab": {
          "base_uri": "https://localhost:8080/"
        },
        "id": "QDLm0xo2olra",
        "outputId": "9f2dd381-2bf1-430d-b15a-5939281bb975"
      },
      "execution_count": 9,
      "outputs": [
        {
          "output_type": "stream",
          "name": "stdout",
          "text": [
            "       price  adjusted_price\n",
            "0        NaN             NaN\n",
            "1       15.0      -20.232932\n",
            "2       14.0      -21.232932\n",
            "3       13.0      -22.232932\n",
            "4       65.0       29.767068\n",
            "...      ...             ...\n",
            "65494   45.0        9.767068\n",
            "65495   22.0      -13.232932\n",
            "65496   20.0      -15.232932\n",
            "65497   31.0       -4.232932\n",
            "65498   10.0      -25.232932\n",
            "\n",
            "[65499 rows x 2 columns]\n"
          ]
        }
      ]
    },
    {
      "cell_type": "code",
      "source": [
        "wine['points_to_price_ratio'] = wine['points'] / wine['price']\n",
        "\n",
        "# Find the row with the maximum points-to-price ratio\n",
        "max_ratio_row = wine.loc[wine['points_to_price_ratio'].idxmax()]\n",
        "\n",
        "# Print the title of the wine with the highest points-to-price ratio\n",
        "print(\"Wine with highest points-to-price ratio:\", max_ratio_row['title'])"
      ],
      "metadata": {
        "colab": {
          "base_uri": "https://localhost:8080/"
        },
        "id": "_FHubMnnrM8c",
        "outputId": "be24ace8-4bc9-45ea-9631-bdb1ca82c950"
      },
      "execution_count": 10,
      "outputs": [
        {
          "output_type": "stream",
          "name": "stdout",
          "text": [
            "Wine with highest points-to-price ratio: Bandit NV Merlot (California)\n"
          ]
        }
      ]
    },
    {
      "cell_type": "code",
      "source": [
        "\n",
        "# Count wines with the word \"tart\" (whole word, not case sensitive)\n",
        "tart_count = wine['description'].str.contains(r'\\btart\\b', case=False, na=False).sum()\n",
        "\n",
        "# Count wines with the word \"berries\" (whole word, not case sensitive)\n",
        "berries_count = wine['description'].str.contains(r'\\bberries\\b', case=False, na=False).sum()\n",
        "\n",
        "# Create the flavor_counts series\n",
        "flavor_counts = pd.Series([tart_count, berries_count], index=[\"Tart\", \"Berries\"])\n",
        "\n",
        "print(flavor_counts)"
      ],
      "metadata": {
        "colab": {
          "base_uri": "https://localhost:8080/"
        },
        "id": "T87ULabbsCfj",
        "outputId": "9e5db6f0-d3d2-472b-e1a0-2f110ae8fce1"
      },
      "execution_count": 12,
      "outputs": [
        {
          "output_type": "stream",
          "name": "stdout",
          "text": [
            "Tart       3086\n",
            "Berries    1192\n",
            "dtype: int64\n"
          ]
        }
      ]
    },
    {
      "cell_type": "code",
      "source": [
        "def get_star_rating(row):\n",
        "    if row['country'] == 'France':  # Special case for France\n",
        "        return 3\n",
        "    elif row['points'] >= 90:\n",
        "        return 3\n",
        "    elif row['points'] >= 80:\n",
        "        return 2\n",
        "    else:\n",
        "        return 1\n",
        "\n",
        "# Apply the star rating logic based on points and country\n",
        "wine['star_ratings'] = wine.apply(get_star_rating, axis=1)\n",
        "\n",
        "# Show the first few rows of the dataframe with the new column\n",
        "print(wine[['points', 'country', 'star_ratings']].head(10))"
      ],
      "metadata": {
        "colab": {
          "base_uri": "https://localhost:8080/"
        },
        "id": "a2m6-ImKtK-J",
        "outputId": "8f0893fe-8e35-4b24-c987-519365737be6"
      },
      "execution_count": 14,
      "outputs": [
        {
          "output_type": "stream",
          "name": "stdout",
          "text": [
            "   points   country  star_ratings\n",
            "0      87     Italy             2\n",
            "1      87  Portugal             2\n",
            "2      87        US             2\n",
            "3      87        US             2\n",
            "4      87        US             2\n",
            "5      87     Spain             2\n",
            "6      87     Italy             2\n",
            "7      87    France             3\n",
            "8      87   Germany             2\n",
            "9      87    France             3\n"
          ]
        }
      ]
    },
    {
      "cell_type": "code",
      "source": [
        "reviewer_counts = wine['taster_twitter_handle'].value_counts()\n",
        "\n",
        "# Show the Series containing the count of reviews for each taster\n",
        "print(reviewer_counts)"
      ],
      "metadata": {
        "colab": {
          "base_uri": "https://localhost:8080/"
        },
        "id": "cuY2io32tiOy",
        "outputId": "1b5e9ee3-13bf-4bdd-d6a6-277110bd7048"
      },
      "execution_count": 16,
      "outputs": [
        {
          "output_type": "stream",
          "name": "stdout",
          "text": [
            "taster_twitter_handle\n",
            "@vossroger          13045\n",
            "@wineschach          7752\n",
            "@kerinokeefe         5313\n",
            "@paulgwine           4851\n",
            "@vboone              4696\n",
            "@mattkettmann        3035\n",
            "@JoeCz               2605\n",
            "@wawinereport        2358\n",
            "@gordone_cellars     2032\n",
            "@AnneInVino          1769\n",
            "@laurbuzz             938\n",
            "@suskostrzewa         593\n",
            "@worldwineguys        465\n",
            "@bkfiona               11\n",
            "@winewchristina         4\n",
            "Name: count, dtype: int64\n"
          ]
        }
      ]
    },
    {
      "cell_type": "code",
      "source": [
        "country_variety_counts = wine.groupby(['country', 'variety']).size()\n",
        "\n",
        "# Sort the values in descending order\n",
        "country_variety_counts = country_variety_counts.sort_values(ascending=False)\n",
        "\n",
        "# Show the Series with the MultiIndex and counts\n",
        "print(country_variety_counts)"
      ],
      "metadata": {
        "colab": {
          "base_uri": "https://localhost:8080/"
        },
        "id": "PspDHILpwmGV",
        "outputId": "907cc320-9a8f-4333-d0b9-36cd09c8251a"
      },
      "execution_count": 17,
      "outputs": [
        {
          "output_type": "stream",
          "name": "stdout",
          "text": [
            "country  variety                 \n",
            "US       Pinot Noir                  4918\n",
            "         Cabernet Sauvignon          3649\n",
            "         Chardonnay                  3412\n",
            "France   Bordeaux-style Red Blend    2380\n",
            "Italy    Red Blend                   1870\n",
            "                                     ... \n",
            "         Torbato                        1\n",
            "         Vespaiolo                      1\n",
            "         Vespolina                      1\n",
            "         Vitovska                       1\n",
            "Uruguay  Tempranillo-Tannat             1\n",
            "Length: 1304, dtype: int64\n"
          ]
        }
      ]
    },
    {
      "cell_type": "code",
      "source": [
        "# Assuming you have a DataFrame df with 'taster_name' and 'points' columns\n",
        "# Group by taster_name and calculate the average points for each reviewer\n",
        "average_scores_by_reviewer = wine.groupby('taster_name')['points'].mean()\n",
        "\n",
        "# Show the Series with reviewers and their average scores\n",
        "print(average_scores_by_reviewer)"
      ],
      "metadata": {
        "colab": {
          "base_uri": "https://localhost:8080/"
        },
        "id": "mW_KAagGxQor",
        "outputId": "ddc33193-90d8-4540-f764-bbf101996129"
      },
      "execution_count": 18,
      "outputs": [
        {
          "output_type": "stream",
          "name": "stdout",
          "text": [
            "taster_name\n",
            "Alexander Peartree    86.014286\n",
            "Anna Lee C. Iijima    88.380506\n",
            "Anne Krebiehl MW      90.587903\n",
            "Carrie Dykes          86.644444\n",
            "Christina Pickard     89.500000\n",
            "Fiona Adams           87.090909\n",
            "Jeff Jenssen          88.273504\n",
            "Jim Gordon            88.604331\n",
            "Joe Czerwinski        88.519770\n",
            "Kerin O’Keefe         88.827969\n",
            "Lauren Buzzeo         87.831557\n",
            "Matt Kettmann         90.021087\n",
            "Michael Schachner     86.904541\n",
            "Mike DeSimone         89.030303\n",
            "Paul Gregutt          89.095032\n",
            "Roger Voss            88.678957\n",
            "Sean P. Sullivan      88.666243\n",
            "Susan Kostrzewa       86.408094\n",
            "Virginie Boone        89.229557\n",
            "Name: points, dtype: float64\n"
          ]
        }
      ]
    }
  ]
}